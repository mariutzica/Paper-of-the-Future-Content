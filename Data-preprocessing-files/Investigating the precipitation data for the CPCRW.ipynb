{
 "cells": [
  {
   "cell_type": "markdown",
   "metadata": {},
   "source": [
    "Compiled by: Maria Stoica  \n",
    "Last edit: 14 February 2017\n",
    "\n",
    "# Setting up the environment.\n",
    "\n",
    "Importing Pandas, Matplotlib, Numpy, and Datetime packages (make sure to have these installed before executing)."
   ]
  },
  {
   "cell_type": "code",
   "execution_count": 1,
   "metadata": {
    "collapsed": true
   },
   "outputs": [],
   "source": [
    "#Pandas for data frames and data manipulation\n",
    "import pandas as pd\n",
    "#datetime to check data availability\n",
    "import datetime\n",
    "#plotting functions\n",
    "import matplotlib.pyplot as plt\n",
    "#numpy for unique function for data analysis\n",
    "import numpy as np\n",
    "\n",
    "#this line is necessary for iPython notebook\n",
    "%matplotlib inline"
   ]
  },
  {
   "cell_type": "markdown",
   "metadata": {},
   "source": [
    "Now we can read the precipitation data into a dataframe using Pandas. Make sure you have downloaded the file '167_TIPBUCK_CPEAK_1993-2014.txt' and that the pathname is correct before executing. We have placed ours in the local directory 'precipitation.' For the illustration in this notebook, we only look at the CPEAK data; however, there are 3 other data sets available; you can find more information on how to clean these other files in the provided Python script."
   ]
  },
  {
   "cell_type": "code",
   "execution_count": 2,
   "metadata": {
    "collapsed": true
   },
   "outputs": [],
   "source": [
    "ext='precipitation/'\n",
    "cpeak = pd.read_csv(ext+'167_TIPBUCK_CPEAK_1993-2014.txt') #184414 data points"
   ]
  },
  {
   "cell_type": "markdown",
   "metadata": {},
   "source": [
    "# Exploring and organizing the data.\n",
    "\n",
    "Let's look at the way the data is formatted:"
   ]
  },
  {
   "cell_type": "code",
   "execution_count": 3,
   "metadata": {
    "collapsed": false
   },
   "outputs": [
    {
     "data": {
      "text/html": [
       "<div>\n",
       "<table border=\"1\" class=\"dataframe\">\n",
       "  <thead>\n",
       "    <tr style=\"text-align: right;\">\n",
       "      <th></th>\n",
       "      <th>site_id</th>\n",
       "      <th>date</th>\n",
       "      <th>hour</th>\n",
       "      <th>measurement</th>\n",
       "      <th>value</th>\n",
       "      <th>unit</th>\n",
       "      <th>flag</th>\n",
       "    </tr>\n",
       "  </thead>\n",
       "  <tbody>\n",
       "    <tr>\n",
       "      <th>0</th>\n",
       "      <td>CPEAK</td>\n",
       "      <td>1993-09-21</td>\n",
       "      <td>1400</td>\n",
       "      <td>Tipping Rain Bucket</td>\n",
       "      <td>12.9</td>\n",
       "      <td>mm</td>\n",
       "      <td>G</td>\n",
       "    </tr>\n",
       "    <tr>\n",
       "      <th>1</th>\n",
       "      <td>CPEAK</td>\n",
       "      <td>1993-09-21</td>\n",
       "      <td>1500</td>\n",
       "      <td>Tipping Rain Bucket</td>\n",
       "      <td>15.3</td>\n",
       "      <td>mm</td>\n",
       "      <td>G</td>\n",
       "    </tr>\n",
       "    <tr>\n",
       "      <th>2</th>\n",
       "      <td>CPEAK</td>\n",
       "      <td>1993-09-21</td>\n",
       "      <td>1600</td>\n",
       "      <td>Tipping Rain Bucket</td>\n",
       "      <td>13.6</td>\n",
       "      <td>mm</td>\n",
       "      <td>G</td>\n",
       "    </tr>\n",
       "    <tr>\n",
       "      <th>3</th>\n",
       "      <td>CPEAK</td>\n",
       "      <td>1993-09-21</td>\n",
       "      <td>1700</td>\n",
       "      <td>Tipping Rain Bucket</td>\n",
       "      <td>14.3</td>\n",
       "      <td>mm</td>\n",
       "      <td>G</td>\n",
       "    </tr>\n",
       "    <tr>\n",
       "      <th>4</th>\n",
       "      <td>CPEAK</td>\n",
       "      <td>1993-09-21</td>\n",
       "      <td>1800</td>\n",
       "      <td>Tipping Rain Bucket</td>\n",
       "      <td>13.7</td>\n",
       "      <td>mm</td>\n",
       "      <td>G</td>\n",
       "    </tr>\n",
       "  </tbody>\n",
       "</table>\n",
       "</div>"
      ],
      "text/plain": [
       "  site_id        date  hour          measurement  value unit flag\n",
       "0   CPEAK  1993-09-21  1400  Tipping Rain Bucket   12.9   mm    G\n",
       "1   CPEAK  1993-09-21  1500  Tipping Rain Bucket   15.3   mm    G\n",
       "2   CPEAK  1993-09-21  1600  Tipping Rain Bucket   13.6   mm    G\n",
       "3   CPEAK  1993-09-21  1700  Tipping Rain Bucket   14.3   mm    G\n",
       "4   CPEAK  1993-09-21  1800  Tipping Rain Bucket   13.7   mm    G"
      ]
     },
     "execution_count": 3,
     "metadata": {},
     "output_type": "execute_result"
    }
   ],
   "source": [
    "cpeak.head()"
   ]
  },
  {
   "cell_type": "markdown",
   "metadata": {},
   "source": [
    "We see that there are 6 columns, the site_id, the date and hour of measurement, the measurement method, the value and unit of the measurement, and a flag to indicate whether the data is good (G). Let's look at each column closer. First, is all data from the CPEAK site? Are all measurements made using the same technique? Is all the data Good? Is all data in the same units."
   ]
  },
  {
   "cell_type": "code",
   "execution_count": 4,
   "metadata": {
    "collapsed": false
   },
   "outputs": [
    {
     "data": {
      "text/plain": [
       "array(['CPEAK'], dtype=object)"
      ]
     },
     "execution_count": 4,
     "metadata": {},
     "output_type": "execute_result"
    }
   ],
   "source": [
    "np.unique(cpeak['site_id'])"
   ]
  },
  {
   "cell_type": "code",
   "execution_count": 5,
   "metadata": {
    "collapsed": false
   },
   "outputs": [
    {
     "data": {
      "text/plain": [
       "array(['Tipping Rain Bucket'], dtype=object)"
      ]
     },
     "execution_count": 5,
     "metadata": {},
     "output_type": "execute_result"
    }
   ],
   "source": [
    "np.unique(cpeak['measurement'])"
   ]
  },
  {
   "cell_type": "code",
   "execution_count": 6,
   "metadata": {
    "collapsed": false
   },
   "outputs": [
    {
     "data": {
      "text/plain": [
       "array(['G', 'M'], dtype=object)"
      ]
     },
     "execution_count": 6,
     "metadata": {},
     "output_type": "execute_result"
    }
   ],
   "source": [
    "np.unique(cpeak['flag'])"
   ]
  },
  {
   "cell_type": "code",
   "execution_count": 7,
   "metadata": {
    "collapsed": false
   },
   "outputs": [
    {
     "data": {
      "text/plain": [
       "array(['mm'], dtype=object)"
      ]
     },
     "execution_count": 7,
     "metadata": {},
     "output_type": "execute_result"
    }
   ],
   "source": [
    "np.unique(cpeak['unit'])"
   ]
  },
  {
   "cell_type": "markdown",
   "metadata": {},
   "source": [
    "Everything looks in order except for some data which seems to be missing. Let's remove it."
   ]
  },
  {
   "cell_type": "code",
   "execution_count": 8,
   "metadata": {
    "collapsed": false
   },
   "outputs": [
    {
     "data": {
      "text/plain": [
       "91669"
      ]
     },
     "execution_count": 8,
     "metadata": {},
     "output_type": "execute_result"
    }
   ],
   "source": [
    "len(cpeak[cpeak['flag']=='M'])"
   ]
  },
  {
   "cell_type": "code",
   "execution_count": 9,
   "metadata": {
    "collapsed": false
   },
   "outputs": [
    {
     "data": {
      "text/plain": [
       "array(['G'], dtype=object)"
      ]
     },
     "execution_count": 9,
     "metadata": {},
     "output_type": "execute_result"
    }
   ],
   "source": [
    "cpeak = cpeak[cpeak['flag']=='G']\n",
    "np.unique(cpeak['flag'])"
   ]
  },
  {
   "cell_type": "markdown",
   "metadata": {},
   "source": [
    "It is also instructive to look at the histogram of the data."
   ]
  },
  {
   "cell_type": "code",
   "execution_count": 10,
   "metadata": {
    "collapsed": false
   },
   "outputs": [
    {
     "data": {
      "text/plain": [
       "(array([   210.,    386.,      0.,      0.,      0.,      0.,      0.,\n",
       "             0.,      0.,  92149.]),\n",
       " array([-9999. , -8899.2, -7799.4, -6699.6, -5599.8, -4500. , -3400.2,\n",
       "        -2300.4, -1200.6,  -100.8,   999. ]),\n",
       " <a list of 10 Patch objects>)"
      ]
     },
     "execution_count": 10,
     "metadata": {},
     "output_type": "execute_result"
    },
    {
     "data": {
      "image/png": "[encoded data removed]",
      "text/plain": [
       "<matplotlib.figure.Figure at 0x9837a20>"
      ]
     },
     "metadata": {},
     "output_type": "display_data"
    }
   ],
   "source": [
    "plt.hist(cpeak['value'])"
   ]
  },
  {
   "cell_type": "markdown",
   "metadata": {},
   "source": [
    "Note that there are several values that are not correct. Specifically, there are several values that are very negative. Additionally, if we look at the upper bound of the array"
   ]
  },
  {
   "cell_type": "code",
   "execution_count": 11,
   "metadata": {
    "collapsed": false
   },
   "outputs": [
    {
     "data": {
      "text/plain": [
       "999.0"
      ]
     },
     "execution_count": 11,
     "metadata": {},
     "output_type": "execute_result"
    }
   ],
   "source": [
    "max(cpeak['value'])"
   ]
  },
  {
   "cell_type": "markdown",
   "metadata": {},
   "source": [
    "we notice that some values are unlikely high as well. Showing a histogram for non-negative values gives:"
   ]
  },
  {
   "cell_type": "code",
   "execution_count": 12,
   "metadata": {
    "collapsed": false
   },
   "outputs": [
    {
     "data": {
      "text/plain": [
       "(array([  9.21480000e+04,   0.00000000e+00,   0.00000000e+00,\n",
       "          0.00000000e+00,   0.00000000e+00,   0.00000000e+00,\n",
       "          0.00000000e+00,   0.00000000e+00,   0.00000000e+00,\n",
       "          1.00000000e+00]),\n",
       " array([   0. ,   99.9,  199.8,  299.7,  399.6,  499.5,  599.4,  699.3,\n",
       "         799.2,  899.1,  999. ]),\n",
       " <a list of 10 Patch objects>)"
      ]
     },
     "execution_count": 12,
     "metadata": {},
     "output_type": "execute_result"
    },
    {
     "data": {
      "image/png": "[encoded data removed]",
      "text/plain": [
       "<matplotlib.figure.Figure at 0x9c5bcc0>"
      ]
     },
     "metadata": {},
     "output_type": "display_data"
    }
   ],
   "source": [
    "plt.hist(cpeak.loc[cpeak['value']>=0,'value'])"
   ]
  },
  {
   "cell_type": "markdown",
   "metadata": {},
   "source": [
    "There is indeed one value that is an outlier. We filter out all of the outliers."
   ]
  },
  {
   "cell_type": "code",
   "execution_count": 13,
   "metadata": {
    "collapsed": true
   },
   "outputs": [],
   "source": [
    "cpeak=cpeak[(cpeak['value']>=0)|(cpeak['value']<100)]"
   ]
  },
  {
   "cell_type": "markdown",
   "metadata": {},
   "source": [
    "We also convert the time to a numeric value (in seconds) that makes it easier to sort and numerically analyse the data."
   ]
  },
  {
   "cell_type": "code",
   "execution_count": 14,
   "metadata": {
    "collapsed": true
   },
   "outputs": [],
   "source": [
    "cpeak['time-seconds']=cpeak['date'].apply(lambda x: (datetime.datetime.strptime(x, '%Y-%m-%d')-\\\n",
    "    datetime.datetime(1970,1,1)).total_seconds())+cpeak['hour']*36"
   ]
  },
  {
   "cell_type": "markdown",
   "metadata": {},
   "source": [
    "For the simulation, it is also important to have the time steps since precipitation is measured in units per time. This is an example of how one could calculate the time step for every data point."
   ]
  },
  {
   "cell_type": "code",
   "execution_count": 15,
   "metadata": {
    "collapsed": true
   },
   "outputs": [],
   "source": [
    "cpeak.index=cpeak['time-seconds']\n",
    "a=cpeak.head(len(cpeak)-1)['time-seconds']\n",
    "b=cpeak.tail(len(cpeak)-1)['time-seconds']\n",
    "a.index=range(len(a))\n",
    "b.index=range(len(a))\n",
    "delta_t=b-a"
   ]
  },
  {
   "cell_type": "code",
   "execution_count": 16,
   "metadata": {
    "collapsed": false
   },
   "outputs": [
    {
     "data": {
      "text/plain": [
       "(array([  9.27270000e+04,   2.00000000e+00,   1.00000000e+00,\n",
       "          6.00000000e+00,   7.00000000e+00,   0.00000000e+00,\n",
       "          0.00000000e+00,   0.00000000e+00,   0.00000000e+00,\n",
       "          1.00000000e+00]),\n",
       " array([  1.00000000e+00,   1.36210000e+03,   2.72320000e+03,\n",
       "          4.08430000e+03,   5.44540000e+03,   6.80650000e+03,\n",
       "          8.16760000e+03,   9.52870000e+03,   1.08898000e+04,\n",
       "          1.22509000e+04,   1.36120000e+04]),\n",
       " <a list of 10 Patch objects>)"
      ]
     },
     "execution_count": 16,
     "metadata": {},
     "output_type": "execute_result"
    },
    {
     "data": {
      "image/png": "[encoded data removed]",
      "text/plain": [
       "<matplotlib.figure.Figure at 0x9f3c438>"
      ]
     },
     "metadata": {},
     "output_type": "display_data"
    }
   ],
   "source": [
    "plt.hist(delta_t/3600)"
   ]
  },
  {
   "cell_type": "markdown",
   "metadata": {},
   "source": [
    "There are a few instances in which (valid) data is collected at time intervals greater than an hour; we should try to avoid these events."
   ]
  },
  {
   "cell_type": "markdown",
   "metadata": {},
   "source": [
    "# Extracting and looking at a piece of the data.\n",
    "\n",
    "We would like to extract a slice of the data for a particular period of time to investigate a single event:"
   ]
  },
  {
   "cell_type": "code",
   "execution_count": 17,
   "metadata": {
    "collapsed": true
   },
   "outputs": [],
   "source": [
    "time_min=(datetime.datetime.strptime('2008/07/28  16:00:00',\\\n",
    "    '%Y/%m/%d %H:%M:%S')-datetime.datetime(1970,1,1)).total_seconds()\n",
    "time_max=(datetime.datetime.strptime('2008/07/30  18:00:00',\\\n",
    "    '%Y/%m/%d %H:%M:%S')-datetime.datetime(1970,1,1)).total_seconds()\n",
    "cpeak_slice=cpeak[(cpeak['time-seconds']>=time_min)&(cpeak['time-seconds']<=time_max)]"
   ]
  },
  {
   "cell_type": "markdown",
   "metadata": {},
   "source": [
    "Now, let's plot the data so we can see the precipitation event we are investigating."
   ]
  },
  {
   "cell_type": "code",
   "execution_count": 18,
   "metadata": {
    "collapsed": false
   },
   "outputs": [
    {
     "data": {
      "image/png": "[encoded data removed]",
      "text/plain": [
       "<matplotlib.figure.Figure at 0xba18160>"
      ]
     },
     "metadata": {},
     "output_type": "display_data"
    }
   ],
   "source": [
    "def plot_precip_data(precip,time_ref,location='CPEAK'):\n",
    "    # Simple plot to check the data\n",
    "    plt.plot(precip['time-seconds']/3600/24-time_ref/3600/24,\\\n",
    "        precip['value'], 'r-')\n",
    "    plt.xlabel('time (days after start date 2008/07/28 16:00:00)')\n",
    "    plt.ylabel('precipitation (mm/hr)')\n",
    "    plt.title(location+' precipitation')\n",
    "    plt.show()\n",
    "    \n",
    "plot_precip_data(cpeak_slice,time_min)"
   ]
  },
  {
   "cell_type": "markdown",
   "metadata": {},
   "source": [
    "We note that there are three precipitation sub-events, occuring in quick succession. We look at the preceeding days to see whether the water saturation of the soil has had time to stabilize from previous precipitation events so that we may use the Green-Ampt formula for modeling infiltration. We note that there is some precipitation in the previous days, but they are small."
   ]
  },
  {
   "cell_type": "code",
   "execution_count": 19,
   "metadata": {
    "collapsed": false
   },
   "outputs": [
    {
     "data": {
      "image/png": "[encoded data removed]",
      "text/plain": [
       "<matplotlib.figure.Figure at 0xbb17940>"
      ]
     },
     "metadata": {},
     "output_type": "display_data"
    }
   ],
   "source": [
    "time_start=(datetime.datetime.strptime('2008/07/25  16:00:00',\\\n",
    "    '%Y/%m/%d %H:%M:%S')-datetime.datetime(1970,1,1)).total_seconds()\n",
    "cpeak_slice=cpeak[(cpeak['time-seconds']>=time_start)&(cpeak['time-seconds']<=time_max)]\n",
    "plot_precip_data(cpeak_slice,time_min)"
   ]
  },
  {
   "cell_type": "markdown",
   "metadata": {
    "collapsed": true
   },
   "source": [
    "Additionaly processing information for generating an input file for the meteorology component in TopoFlow is included in the accompanying scripts. Data is collected once an hour, but the model performs poorly under this temporal discretization, so we generate input files where we subsample the data assuming uniform hourly precipitation distributions."
   ]
  },
  {
   "cell_type": "code",
   "execution_count": null,
   "metadata": {
    "collapsed": true
   },
   "outputs": [],
   "source": []
  }
 ],
 "metadata": {
  "kernelspec": {
   "display_name": "Python 2",
   "language": "python",
   "name": "python2"
  },
  "language_info": {
   "codemirror_mode": {
    "name": "ipython",
    "version": 2
   },
   "file_extension": ".py",
   "mimetype": "text/x-python",
   "name": "python",
   "nbconvert_exporter": "python",
   "pygments_lexer": "ipython2",
   "version": "2.7.13"
  }
 },
 "nbformat": 4,
 "nbformat_minor": 0
}
