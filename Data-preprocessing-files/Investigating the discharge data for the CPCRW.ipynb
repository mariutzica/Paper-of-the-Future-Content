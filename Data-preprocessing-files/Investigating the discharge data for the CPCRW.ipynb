{
 "cells": [
  {
   "cell_type": "markdown",
   "metadata": {},
   "source": [
    "# Setting up the environment.\n",
    "\n",
    "Importing Pandas, Matplotlib, Numpy, and Datetime packages (make sure to have these installed before executing)."
   ]
  },
  {
   "cell_type": "code",
   "execution_count": 35,
   "metadata": {
    "collapsed": true
   },
   "outputs": [],
   "source": [
    "#Pandas for data frames and data manipulation\n",
    "import pandas as pd\n",
    "#datetime to check data availability\n",
    "import datetime\n",
    "#plotting functions\n",
    "import matplotlib.pyplot as plt\n",
    "#numpy for unique function for data analysis\n",
    "import numpy as np\n",
    "\n",
    "#this line is necessary for iPython notebook\n",
    "%matplotlib inline"
   ]
  },
  {
   "cell_type": "markdown",
   "metadata": {},
   "source": [
    "Now we can read the discharge data into a dataframe using Pandas. Make sure you have downloaded the file cpcrw_flow_1965-2015.txt and that the pathname is correct before executing. We have placed ours in the local directory 'discharges.'"
   ]
  },
  {
   "cell_type": "code",
   "execution_count": 37,
   "metadata": {
    "collapsed": true
   },
   "outputs": [],
   "source": [
    "# Load file\n",
    "ext='discharges/'\n",
    "flow_data = pd.read_csv(ext+'cpcrw_flow_1969-2015.txt')"
   ]
  },
  {
   "cell_type": "markdown",
   "metadata": {},
   "source": [
    "# Exploring and organizing the data.\n",
    "\n",
    "Let's look at the way the data is formatted:"
   ]
  },
  {
   "cell_type": "code",
   "execution_count": 38,
   "metadata": {
    "collapsed": false
   },
   "outputs": [
    {
     "data": {
      "text/html": [
       "<div>\n",
       "<table border=\"1\" class=\"dataframe\">\n",
       "  <thead>\n",
       "    <tr style=\"text-align: right;\">\n",
       "      <th></th>\n",
       "      <th>Watershed</th>\n",
       "      <th>Date-Time</th>\n",
       "      <th>Flow</th>\n",
       "      <th>Units</th>\n",
       "      <th>Flag</th>\n",
       "    </tr>\n",
       "  </thead>\n",
       "  <tbody>\n",
       "    <tr>\n",
       "      <th>0</th>\n",
       "      <td>C2</td>\n",
       "      <td>7/14/1978 7:00:00</td>\n",
       "      <td>29.19</td>\n",
       "      <td>L/s</td>\n",
       "      <td>G</td>\n",
       "    </tr>\n",
       "    <tr>\n",
       "      <th>1</th>\n",
       "      <td>C2</td>\n",
       "      <td>7/14/1978 8:00:00</td>\n",
       "      <td>28.28</td>\n",
       "      <td>L/s</td>\n",
       "      <td>G</td>\n",
       "    </tr>\n",
       "    <tr>\n",
       "      <th>2</th>\n",
       "      <td>C2</td>\n",
       "      <td>7/14/1978 9:00:00</td>\n",
       "      <td>28.28</td>\n",
       "      <td>L/s</td>\n",
       "      <td>G</td>\n",
       "    </tr>\n",
       "    <tr>\n",
       "      <th>3</th>\n",
       "      <td>C2</td>\n",
       "      <td>7/14/1978 10:00:00</td>\n",
       "      <td>27.38</td>\n",
       "      <td>L/s</td>\n",
       "      <td>G</td>\n",
       "    </tr>\n",
       "    <tr>\n",
       "      <th>4</th>\n",
       "      <td>C2</td>\n",
       "      <td>7/14/1978 11:00:00</td>\n",
       "      <td>27.38</td>\n",
       "      <td>L/s</td>\n",
       "      <td>G</td>\n",
       "    </tr>\n",
       "  </tbody>\n",
       "</table>\n",
       "</div>"
      ],
      "text/plain": [
       "  Watershed           Date-Time   Flow Units Flag\n",
       "0        C2   7/14/1978 7:00:00  29.19   L/s    G\n",
       "1        C2   7/14/1978 8:00:00  28.28   L/s    G\n",
       "2        C2   7/14/1978 9:00:00  28.28   L/s    G\n",
       "3        C2  7/14/1978 10:00:00  27.38   L/s    G\n",
       "4        C2  7/14/1978 11:00:00  27.38   L/s    G"
      ]
     },
     "execution_count": 38,
     "metadata": {},
     "output_type": "execute_result"
    }
   ],
   "source": [
    "flow_data.head()"
   ]
  },
  {
   "cell_type": "markdown",
   "metadata": {},
   "source": [
    "There are 5 columns in the data file. The first column indicates the watershed name. Let's look at how many possible values are in the Watershed column:"
   ]
  },
  {
   "cell_type": "code",
   "execution_count": 39,
   "metadata": {
    "collapsed": false
   },
   "outputs": [
    {
     "data": {
      "text/plain": [
       "array(['C2', 'C3', 'C4'], dtype=object)"
      ]
     },
     "execution_count": 39,
     "metadata": {},
     "output_type": "execute_result"
    }
   ],
   "source": [
    "np.unique(flow_data['Watershed'])"
   ]
  },
  {
   "cell_type": "markdown",
   "metadata": {},
   "source": [
    "We see that the data for the three watersheds, C2, C3, and C4, is interleaved. The next column is the Date-Time. The last three columns indicate the Flow rate, Units for the Flow rate, and a flag that reads 'G' when the data is good. We only want 'G' data for our analysis.\n",
    "\n",
    "First, let's check that all the units are uniform:"
   ]
  },
  {
   "cell_type": "code",
   "execution_count": 40,
   "metadata": {
    "collapsed": false,
    "scrolled": true
   },
   "outputs": [
    {
     "data": {
      "text/plain": [
       "array(['L/s'], dtype=object)"
      ]
     },
     "execution_count": 40,
     "metadata": {},
     "output_type": "execute_result"
    }
   ],
   "source": [
    "np.unique(flow_data['Units'])"
   ]
  },
  {
   "cell_type": "markdown",
   "metadata": {},
   "source": [
    "It is also instructive to look at the distribution of the data. It seems that there are a few outliers, so we should be cautious with those data points."
   ]
  },
  {
   "cell_type": "code",
   "execution_count": 66,
   "metadata": {
    "collapsed": false
   },
   "outputs": [
    {
     "data": {
      "text/plain": [
       "(array([  6.18766000e+05,   3.25000000e+02,   5.40000000e+01,\n",
       "          9.00000000e+00,   2.00000000e+00,   1.00000000e+00,\n",
       "          1.00000000e+00,   1.00000000e+00,   0.00000000e+00,\n",
       "          1.00000000e+00]),\n",
       " array([    0.   ,   925.331,  1850.662,  2775.993,  3701.324,  4626.655,\n",
       "         5551.986,  6477.317,  7402.648,  8327.979,  9253.31 ]),\n",
       " <a list of 10 Patch objects>)"
      ]
     },
     "execution_count": 66,
     "metadata": {},
     "output_type": "execute_result"
    },
    {
     "data": {
      "image/png": "[encoded data removed]",
      "text/plain": [
       "<matplotlib.figure.Figure at 0x1262ea90>"
      ]
     },
     "metadata": {},
     "output_type": "display_data"
    }
   ],
   "source": [
    "plt.hist(flow_data['Flow'])"
   ]
  },
  {
   "cell_type": "markdown",
   "metadata": {},
   "source": [
    "Next, let's check for bad data."
   ]
  },
  {
   "cell_type": "code",
   "execution_count": 41,
   "metadata": {
    "collapsed": false
   },
   "outputs": [
    {
     "data": {
      "text/plain": [
       "array(['G'], dtype=object)"
      ]
     },
     "execution_count": 41,
     "metadata": {},
     "output_type": "execute_result"
    }
   ],
   "source": [
    "np.unique(flow_data['Flag'])"
   ]
  },
  {
   "cell_type": "markdown",
   "metadata": {},
   "source": [
    "Our data is uniform and good. Now, let's try to check the formatting for the 'Date-Time' column; this column is most useful to us in a numeric format, so we will try converting it to seconds:"
   ]
  },
  {
   "cell_type": "code",
   "execution_count": 54,
   "metadata": {
    "collapsed": false
   },
   "outputs": [],
   "source": [
    "flow_data.loc[:,'time-seconds']=flow_data['Date-Time'].apply(lambda x: (datetime.datetime.strptime(x,\\\n",
    "    '%m/%d/%Y %H:%M:%S')-datetime.datetime(1970,1,1)).total_seconds())"
   ]
  },
  {
   "cell_type": "code",
   "execution_count": 55,
   "metadata": {
    "collapsed": false
   },
   "outputs": [
    {
     "data": {
      "text/plain": [
       "0    269247600\n",
       "1    269251200\n",
       "2    269254800\n",
       "3    269258400\n",
       "4    269262000\n",
       "Name: time-seconds, dtype: float64"
      ]
     },
     "execution_count": 55,
     "metadata": {},
     "output_type": "execute_result"
    }
   ],
   "source": [
    "flow_data['time-seconds'].head()"
   ]
  },
  {
   "cell_type": "code",
   "execution_count": 56,
   "metadata": {
    "collapsed": false
   },
   "outputs": [
    {
     "data": {
      "text/plain": [
       "False"
      ]
     },
     "execution_count": 56,
     "metadata": {},
     "output_type": "execute_result"
    }
   ],
   "source": [
    "pd.algos.is_monotonic_float64(flow_data['time-seconds'].values, False)[0]"
   ]
  },
  {
   "cell_type": "code",
   "execution_count": 57,
   "metadata": {
    "collapsed": false
   },
   "outputs": [
    {
     "data": {
      "text/plain": [
       "True"
      ]
     },
     "execution_count": 57,
     "metadata": {},
     "output_type": "execute_result"
    }
   ],
   "source": [
    "a = a.sort_values()\n",
    "pd.algos.is_monotonic_float64(a.values, False)[0]"
   ]
  },
  {
   "cell_type": "markdown",
   "metadata": {},
   "source": [
    "# Extracting and looking at a piece of the data.\n",
    "\n",
    "We would like to extract a slice of the data for a particular period of time for the C2 watershed:"
   ]
  },
  {
   "cell_type": "code",
   "execution_count": 58,
   "metadata": {
    "collapsed": true
   },
   "outputs": [],
   "source": [
    "time_min=(datetime.datetime.strptime('2008/07/28  16:00:00',\\\n",
    "    '%Y/%m/%d %H:%M:%S')-datetime.datetime(1970,1,1)).total_seconds()\n",
    "time_max=(datetime.datetime.strptime('2008/07/30  18:00:00',\\\n",
    "    '%Y/%m/%d %H:%M:%S')-datetime.datetime(1970,1,1)).total_seconds()\n",
    "flow_data_slice=flow_data[(flow_data['time-seconds']>=time_min)&(flow_data['time-seconds']<=time_max)]"
   ]
  },
  {
   "cell_type": "markdown",
   "metadata": {},
   "source": [
    "Now, let's plot the data so we can see the precipitation event we are investigating."
   ]
  },
  {
   "cell_type": "code",
   "execution_count": 59,
   "metadata": {
    "collapsed": false
   },
   "outputs": [
    {
     "data": {
      "image/png": "[encoded data removed]",
      "text/plain": [
       "<matplotlib.figure.Figure at 0x204c10b8>"
      ]
     },
     "metadata": {},
     "output_type": "display_data"
    }
   ],
   "source": [
    "def plot_flow_data(flow_data,time_ref,watershed='C2'):\n",
    "    # Extract the data for the C2 watershed\n",
    "    temp=flow_data[flow_data['Watershed']==watershed]\n",
    "    \n",
    "    # Simple plot to check the data\n",
    "    plt.plot(temp['time-seconds']/3600/24-time_ref/3600/24,\\\n",
    "        temp['Flow']*.001, 'r-')\n",
    "    plt.xlabel('time (days after start date 2008/07/28 16:00:00)')\n",
    "    plt.ylabel('discharge rate (m$^3$/s)')\n",
    "    plt.title(watershed)\n",
    "    plt.show()\n",
    "    \n",
    "plot_flow_data(flow_data_slice,time_min)"
   ]
  },
  {
   "cell_type": "markdown",
   "metadata": {},
   "source": [
    "We see that for our particular event, there are three visible peaks, with a fourth peak (at 0.5 days after start date) that is incorporated into the second peak and appears as a shoulder. To see whether there is a stable baseflow (0.037 m^3/s) at the start time, we can plot back to an earlier time."
   ]
  },
  {
   "cell_type": "code",
   "execution_count": 60,
   "metadata": {
    "collapsed": false
   },
   "outputs": [
    {
     "data": {
      "image/png": "[encoded data removed]",
      "text/plain": [
       "<matplotlib.figure.Figure at 0x188ed518>"
      ]
     },
     "metadata": {},
     "output_type": "display_data"
    }
   ],
   "source": [
    "time_start=(datetime.datetime.strptime('2008/07/25  16:00:00',\\\n",
    "    '%Y/%m/%d %H:%M:%S')-datetime.datetime(1970,1,1)).total_seconds()\n",
    "flow_data_slice=flow_data[(flow_data['time-seconds']>=time_start)&(flow_data['time-seconds']<=time_max)]\n",
    "plot_flow_data(flow_data_slice,time_min)"
   ]
  },
  {
   "cell_type": "code",
   "execution_count": null,
   "metadata": {
    "collapsed": true
   },
   "outputs": [],
   "source": []
  }
 ],
 "metadata": {
  "kernelspec": {
   "display_name": "Python 2",
   "language": "python",
   "name": "python2"
  },
  "language_info": {
   "codemirror_mode": {
    "name": "ipython",
    "version": 2
   },
   "file_extension": ".py",
   "mimetype": "text/x-python",
   "name": "python",
   "nbconvert_exporter": "python",
   "pygments_lexer": "ipython2",
   "version": "2.7.11"
  }
 },
 "nbformat": 4,
 "nbformat_minor": 0
}
